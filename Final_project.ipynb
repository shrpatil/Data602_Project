{
 "cells": [
  {
   "cell_type": "markdown",
   "id": "de37dd58",
   "metadata": {},
   "source": [
    "# Predicting the resolution of protein structures using X-ray diffraction data\n",
    "\n",
    "This notebook we will be trying to predict the resolution of the protein structured data which has been analyzed in the first part of this project. Will be using different classification algorithms and will try to tune hyperparameters to get optimum results. \n"
   ]
  },
  {
   "cell_type": "code",
   "execution_count": 1,
   "id": "95ce1001",
   "metadata": {},
   "outputs": [],
   "source": [
    "import pandas as pd\n",
    "import numpy as np\n",
    "import matplotlib.pyplot as plt"
   ]
  },
  {
   "cell_type": "code",
   "execution_count": 2,
   "id": "e5188edd",
   "metadata": {},
   "outputs": [],
   "source": [
    "df = pd.read_csv('after_eda_data.csv')"
   ]
  },
  {
   "cell_type": "code",
   "execution_count": 3,
   "id": "7fad4fcb",
   "metadata": {},
   "outputs": [
    {
     "data": {
      "text/html": [
       "<div>\n",
       "<style scoped>\n",
       "    .dataframe tbody tr th:only-of-type {\n",
       "        vertical-align: middle;\n",
       "    }\n",
       "\n",
       "    .dataframe tbody tr th {\n",
       "        vertical-align: top;\n",
       "    }\n",
       "\n",
       "    .dataframe thead th {\n",
       "        text-align: right;\n",
       "    }\n",
       "</style>\n",
       "<table border=\"1\" class=\"dataframe\">\n",
       "  <thead>\n",
       "    <tr style=\"text-align: right;\">\n",
       "      <th></th>\n",
       "      <th>Angle_beta_(°)</th>\n",
       "      <th>Angle_gamma_(°)</th>\n",
       "      <th>Collection_Temperature</th>\n",
       "      <th>Detector</th>\n",
       "      <th>Diffraction_Source_General_Class</th>\n",
       "      <th>Matthews_Coefficient</th>\n",
       "      <th>Percent_Solvent_Content</th>\n",
       "      <th>Total_Number_of_Polymer_Instances_(Chains)</th>\n",
       "      <th>Resolution_(Å)</th>\n",
       "      <th>R_Free</th>\n",
       "      <th>Reflections_For_Refinement</th>\n",
       "      <th>Structure_Determination_Method</th>\n",
       "      <th>Minimum_Diffraction_Wavelength</th>\n",
       "      <th>Maximum_Diffraction_Wavelength</th>\n",
       "      <th>Crystal_cell_volum</th>\n",
       "    </tr>\n",
       "  </thead>\n",
       "  <tbody>\n",
       "    <tr>\n",
       "      <th>0</th>\n",
       "      <td>90.00</td>\n",
       "      <td>90.0</td>\n",
       "      <td>100.0</td>\n",
       "      <td>IMAGE PLATE</td>\n",
       "      <td>SYNCHROTRON</td>\n",
       "      <td>3.00</td>\n",
       "      <td>34.00</td>\n",
       "      <td>1</td>\n",
       "      <td>No</td>\n",
       "      <td>0.299</td>\n",
       "      <td>7634.0</td>\n",
       "      <td>MULTIPLE ISOMORPHOUS REPLACEMENT</td>\n",
       "      <td>0.9000</td>\n",
       "      <td>1.1000</td>\n",
       "      <td>4.308345e+05</td>\n",
       "    </tr>\n",
       "    <tr>\n",
       "      <th>1</th>\n",
       "      <td>131.91</td>\n",
       "      <td>90.0</td>\n",
       "      <td>93.0</td>\n",
       "      <td>IMAGE PLATE</td>\n",
       "      <td>ROTATING ANODE</td>\n",
       "      <td>2.49</td>\n",
       "      <td>51.03</td>\n",
       "      <td>2</td>\n",
       "      <td>No</td>\n",
       "      <td>0.267</td>\n",
       "      <td>22321.0</td>\n",
       "      <td>MOLECULAR REPLACEMENT</td>\n",
       "      <td>1.5418</td>\n",
       "      <td>1.5418</td>\n",
       "      <td>6.437038e+05</td>\n",
       "    </tr>\n",
       "    <tr>\n",
       "      <th>2</th>\n",
       "      <td>90.00</td>\n",
       "      <td>90.0</td>\n",
       "      <td>100.0</td>\n",
       "      <td>CCD</td>\n",
       "      <td>SYNCHROTRON</td>\n",
       "      <td>2.25</td>\n",
       "      <td>45.00</td>\n",
       "      <td>3</td>\n",
       "      <td>No</td>\n",
       "      <td>0.264</td>\n",
       "      <td>11938.0</td>\n",
       "      <td>MR, CROSS-CRYSTAL A</td>\n",
       "      <td>0.9194</td>\n",
       "      <td>0.9194</td>\n",
       "      <td>6.604790e+05</td>\n",
       "    </tr>\n",
       "    <tr>\n",
       "      <th>3</th>\n",
       "      <td>90.00</td>\n",
       "      <td>90.0</td>\n",
       "      <td>300.0</td>\n",
       "      <td>IMAGE PLATE</td>\n",
       "      <td>ROTATING ANODE</td>\n",
       "      <td>3.87</td>\n",
       "      <td>68.20</td>\n",
       "      <td>1</td>\n",
       "      <td>No</td>\n",
       "      <td>0.258</td>\n",
       "      <td>14853.0</td>\n",
       "      <td>MOLECULAR REPLACEMENT</td>\n",
       "      <td>1.5418</td>\n",
       "      <td>1.5418</td>\n",
       "      <td>6.518244e+06</td>\n",
       "    </tr>\n",
       "    <tr>\n",
       "      <th>4</th>\n",
       "      <td>90.00</td>\n",
       "      <td>90.0</td>\n",
       "      <td>283.0</td>\n",
       "      <td>IMAGE PLATE</td>\n",
       "      <td>ROTATING ANODE</td>\n",
       "      <td>2.77</td>\n",
       "      <td>56.00</td>\n",
       "      <td>1</td>\n",
       "      <td>No</td>\n",
       "      <td>0.268</td>\n",
       "      <td>8382.0</td>\n",
       "      <td>MOLECULAR REPLACEMENT</td>\n",
       "      <td>1.5418</td>\n",
       "      <td>1.5418</td>\n",
       "      <td>2.343045e+05</td>\n",
       "    </tr>\n",
       "  </tbody>\n",
       "</table>\n",
       "</div>"
      ],
      "text/plain": [
       "   Angle_beta_(°)  Angle_gamma_(°)  Collection_Temperature     Detector  \\\n",
       "0           90.00             90.0                   100.0  IMAGE PLATE   \n",
       "1          131.91             90.0                    93.0  IMAGE PLATE   \n",
       "2           90.00             90.0                   100.0          CCD   \n",
       "3           90.00             90.0                   300.0  IMAGE PLATE   \n",
       "4           90.00             90.0                   283.0  IMAGE PLATE   \n",
       "\n",
       "  Diffraction_Source_General_Class  Matthews_Coefficient  \\\n",
       "0                      SYNCHROTRON                  3.00   \n",
       "1                   ROTATING ANODE                  2.49   \n",
       "2                      SYNCHROTRON                  2.25   \n",
       "3                   ROTATING ANODE                  3.87   \n",
       "4                   ROTATING ANODE                  2.77   \n",
       "\n",
       "   Percent_Solvent_Content  Total_Number_of_Polymer_Instances_(Chains)  \\\n",
       "0                    34.00                                           1   \n",
       "1                    51.03                                           2   \n",
       "2                    45.00                                           3   \n",
       "3                    68.20                                           1   \n",
       "4                    56.00                                           1   \n",
       "\n",
       "  Resolution_(Å)  R_Free  Reflections_For_Refinement  \\\n",
       "0             No   0.299                      7634.0   \n",
       "1             No   0.267                     22321.0   \n",
       "2             No   0.264                     11938.0   \n",
       "3             No   0.258                     14853.0   \n",
       "4             No   0.268                      8382.0   \n",
       "\n",
       "     Structure_Determination_Method  Minimum_Diffraction_Wavelength  \\\n",
       "0  MULTIPLE ISOMORPHOUS REPLACEMENT                          0.9000   \n",
       "1             MOLECULAR REPLACEMENT                          1.5418   \n",
       "2               MR, CROSS-CRYSTAL A                          0.9194   \n",
       "3             MOLECULAR REPLACEMENT                          1.5418   \n",
       "4             MOLECULAR REPLACEMENT                          1.5418   \n",
       "\n",
       "   Maximum_Diffraction_Wavelength  Crystal_cell_volum  \n",
       "0                          1.1000        4.308345e+05  \n",
       "1                          1.5418        6.437038e+05  \n",
       "2                          0.9194        6.604790e+05  \n",
       "3                          1.5418        6.518244e+06  \n",
       "4                          1.5418        2.343045e+05  "
      ]
     },
     "execution_count": 3,
     "metadata": {},
     "output_type": "execute_result"
    }
   ],
   "source": [
    "df.head()"
   ]
  },
  {
   "cell_type": "code",
   "execution_count": 4,
   "id": "fda2c5bf",
   "metadata": {},
   "outputs": [
    {
     "name": "stdout",
     "output_type": "stream",
     "text": [
      "<class 'pandas.core.frame.DataFrame'>\n",
      "RangeIndex: 108064 entries, 0 to 108063\n",
      "Data columns (total 15 columns):\n",
      " #   Column                                      Non-Null Count   Dtype  \n",
      "---  ------                                      --------------   -----  \n",
      " 0   Angle_beta_(°)                              108064 non-null  float64\n",
      " 1   Angle_gamma_(°)                             108064 non-null  float64\n",
      " 2   Collection_Temperature                      108064 non-null  float64\n",
      " 3   Detector                                    108064 non-null  object \n",
      " 4   Diffraction_Source_General_Class            108064 non-null  object \n",
      " 5   Matthews_Coefficient                        108064 non-null  float64\n",
      " 6   Percent_Solvent_Content                     108064 non-null  float64\n",
      " 7   Total_Number_of_Polymer_Instances_(Chains)  108064 non-null  int64  \n",
      " 8   Resolution_(Å)                              108064 non-null  object \n",
      " 9   R_Free                                      108064 non-null  float64\n",
      " 10  Reflections_For_Refinement                  108064 non-null  float64\n",
      " 11  Structure_Determination_Method              108064 non-null  object \n",
      " 12  Minimum_Diffraction_Wavelength              108064 non-null  float64\n",
      " 13  Maximum_Diffraction_Wavelength              108064 non-null  float64\n",
      " 14  Crystal_cell_volum                          108064 non-null  float64\n",
      "dtypes: float64(10), int64(1), object(4)\n",
      "memory usage: 12.4+ MB\n"
     ]
    }
   ],
   "source": [
    "df.info()"
   ]
  },
  {
   "cell_type": "code",
   "execution_count": 5,
   "id": "c4ddb5de",
   "metadata": {},
   "outputs": [
    {
     "data": {
      "text/html": [
       "<div>\n",
       "<style scoped>\n",
       "    .dataframe tbody tr th:only-of-type {\n",
       "        vertical-align: middle;\n",
       "    }\n",
       "\n",
       "    .dataframe tbody tr th {\n",
       "        vertical-align: top;\n",
       "    }\n",
       "\n",
       "    .dataframe thead th {\n",
       "        text-align: right;\n",
       "    }\n",
       "</style>\n",
       "<table border=\"1\" class=\"dataframe\">\n",
       "  <thead>\n",
       "    <tr style=\"text-align: right;\">\n",
       "      <th></th>\n",
       "      <th>Detector</th>\n",
       "      <th>Diffraction_Source_General_Class</th>\n",
       "      <th>Resolution_(Å)</th>\n",
       "      <th>Structure_Determination_Method</th>\n",
       "    </tr>\n",
       "  </thead>\n",
       "  <tbody>\n",
       "    <tr>\n",
       "      <th>count</th>\n",
       "      <td>108064</td>\n",
       "      <td>108064</td>\n",
       "      <td>108064</td>\n",
       "      <td>108064</td>\n",
       "    </tr>\n",
       "    <tr>\n",
       "      <th>unique</th>\n",
       "      <td>19</td>\n",
       "      <td>10</td>\n",
       "      <td>2</td>\n",
       "      <td>513</td>\n",
       "    </tr>\n",
       "    <tr>\n",
       "      <th>top</th>\n",
       "      <td>CCD</td>\n",
       "      <td>SYNCHROTRON</td>\n",
       "      <td>Yes</td>\n",
       "      <td>MOLECULAR REPLACEMENT</td>\n",
       "    </tr>\n",
       "    <tr>\n",
       "      <th>freq</th>\n",
       "      <td>61202</td>\n",
       "      <td>94079</td>\n",
       "      <td>55436</td>\n",
       "      <td>85068</td>\n",
       "    </tr>\n",
       "  </tbody>\n",
       "</table>\n",
       "</div>"
      ],
      "text/plain": [
       "       Detector Diffraction_Source_General_Class Resolution_(Å)  \\\n",
       "count    108064                           108064         108064   \n",
       "unique       19                               10              2   \n",
       "top         CCD                      SYNCHROTRON            Yes   \n",
       "freq      61202                            94079          55436   \n",
       "\n",
       "       Structure_Determination_Method  \n",
       "count                          108064  \n",
       "unique                            513  \n",
       "top             MOLECULAR REPLACEMENT  \n",
       "freq                            85068  "
      ]
     },
     "execution_count": 5,
     "metadata": {},
     "output_type": "execute_result"
    }
   ],
   "source": [
    "df.describe(include='object')"
   ]
  },
  {
   "cell_type": "code",
   "execution_count": 6,
   "id": "c2bf87ca",
   "metadata": {},
   "outputs": [
    {
     "data": {
      "text/html": [
       "<div>\n",
       "<style scoped>\n",
       "    .dataframe tbody tr th:only-of-type {\n",
       "        vertical-align: middle;\n",
       "    }\n",
       "\n",
       "    .dataframe tbody tr th {\n",
       "        vertical-align: top;\n",
       "    }\n",
       "\n",
       "    .dataframe thead th {\n",
       "        text-align: right;\n",
       "    }\n",
       "</style>\n",
       "<table border=\"1\" class=\"dataframe\">\n",
       "  <thead>\n",
       "    <tr style=\"text-align: right;\">\n",
       "      <th></th>\n",
       "      <th>Detector</th>\n",
       "      <th>Diffraction_Source_General_Class</th>\n",
       "      <th>Structure_Determination_Method</th>\n",
       "    </tr>\n",
       "  </thead>\n",
       "  <tbody>\n",
       "    <tr>\n",
       "      <th>count</th>\n",
       "      <td>108064</td>\n",
       "      <td>108064</td>\n",
       "      <td>108064</td>\n",
       "    </tr>\n",
       "    <tr>\n",
       "      <th>unique</th>\n",
       "      <td>19</td>\n",
       "      <td>10</td>\n",
       "      <td>513</td>\n",
       "    </tr>\n",
       "    <tr>\n",
       "      <th>top</th>\n",
       "      <td>CCD</td>\n",
       "      <td>SYNCHROTRON</td>\n",
       "      <td>MOLECULAR REPLACEMENT</td>\n",
       "    </tr>\n",
       "    <tr>\n",
       "      <th>freq</th>\n",
       "      <td>61202</td>\n",
       "      <td>94079</td>\n",
       "      <td>85068</td>\n",
       "    </tr>\n",
       "  </tbody>\n",
       "</table>\n",
       "</div>"
      ],
      "text/plain": [
       "       Detector Diffraction_Source_General_Class  \\\n",
       "count    108064                           108064   \n",
       "unique       19                               10   \n",
       "top         CCD                      SYNCHROTRON   \n",
       "freq      61202                            94079   \n",
       "\n",
       "       Structure_Determination_Method  \n",
       "count                          108064  \n",
       "unique                            513  \n",
       "top             MOLECULAR REPLACEMENT  \n",
       "freq                            85068  "
      ]
     },
     "execution_count": 6,
     "metadata": {},
     "output_type": "execute_result"
    }
   ],
   "source": [
    "\n",
    "df['Resolution_(Å)']=df['Resolution_(Å)'].replace('Yes',1)\n",
    "df['Resolution_(Å)']=df['Resolution_(Å)'].replace('No',0)\n",
    "df.describe(include='object')"
   ]
  },
  {
   "cell_type": "markdown",
   "id": "a0d92e5c",
   "metadata": {},
   "source": [
    "#### List of numerical columns"
   ]
  },
  {
   "cell_type": "code",
   "execution_count": 7,
   "id": "9407aa8c",
   "metadata": {},
   "outputs": [
    {
     "data": {
      "text/plain": [
       "['Angle_beta_(°)',\n",
       " 'Angle_gamma_(°)',\n",
       " 'Collection_Temperature',\n",
       " 'Matthews_Coefficient',\n",
       " 'Percent_Solvent_Content',\n",
       " 'Total_Number_of_Polymer_Instances_(Chains)',\n",
       " 'R_Free',\n",
       " 'Reflections_For_Refinement',\n",
       " 'Minimum_Diffraction_Wavelength',\n",
       " 'Maximum_Diffraction_Wavelength',\n",
       " 'Crystal_cell_volum']"
      ]
     },
     "execution_count": 7,
     "metadata": {},
     "output_type": "execute_result"
    }
   ],
   "source": [
    "numerical_vars = df.select_dtypes(exclude= \"object\")\n",
    "numerical_vars = numerical_vars.columns.tolist()\n",
    "numerical_vars.remove('Resolution_(Å)')\n",
    "numerical_vars"
   ]
  },
  {
   "cell_type": "markdown",
   "id": "fba5109d",
   "metadata": {},
   "source": [
    "#### List of categorical columns"
   ]
  },
  {
   "cell_type": "code",
   "execution_count": 8,
   "id": "c3e612c7",
   "metadata": {},
   "outputs": [
    {
     "data": {
      "text/plain": [
       "['Detector',\n",
       " 'Diffraction_Source_General_Class',\n",
       " 'Structure_Determination_Method']"
      ]
     },
     "execution_count": 8,
     "metadata": {},
     "output_type": "execute_result"
    }
   ],
   "source": [
    "categorical_vars = df.select_dtypes(include= \"object\")\n",
    "categorical_vars= categorical_vars.columns.tolist()\n",
    "#categorical_vars.remove('Resolution_(Å)')\n",
    "categorical_vars"
   ]
  },
  {
   "cell_type": "markdown",
   "id": "8095d843",
   "metadata": {},
   "source": [
    "####  Splitting the dataset into test and train examples"
   ]
  },
  {
   "cell_type": "code",
   "execution_count": 9,
   "id": "9ec58a3c",
   "metadata": {},
   "outputs": [
    {
     "name": "stdout",
     "output_type": "stream",
     "text": [
      "Training examples: 86,451\n",
      "Test examples: 21,613\n"
     ]
    }
   ],
   "source": [
    "from sklearn.model_selection import train_test_split\n",
    "features = [x for x in df.columns if x != 'Resolution_(Å)']\n",
    "\n",
    "X = df[features]\n",
    "y = df['Resolution_(Å)']\n",
    "\n",
    "X_train, X_test, y_train, y_test = train_test_split(X, y, test_size=0.2, random_state=124)\n",
    "print(f'Training examples: {X_train.shape[0]:,}')\n",
    "print(f'Test examples: {X_test.shape[0]:,}')"
   ]
  },
  {
   "cell_type": "markdown",
   "id": "920058f0",
   "metadata": {},
   "source": [
    "#### Creating preprocessing pipeline for numerical and categorical columns"
   ]
  },
  {
   "cell_type": "code",
   "execution_count": 10,
   "id": "23d57453",
   "metadata": {},
   "outputs": [],
   "source": [
    "from sklearn.pipeline import Pipeline\n",
    "from sklearn.compose import ColumnTransformer\n",
    "from sklearn.impute import SimpleImputer\n",
    "from sklearn.preprocessing import OneHotEncoder\n",
    "from sklearn.preprocessing import StandardScaler\n",
    "\n",
    "\n",
    "num_pipeline = Pipeline([('scale', StandardScaler()) ])\n",
    "\n",
    "car_pipeline = Pipeline([('create_dummies_cats', OneHotEncoder(handle_unknown='ignore', drop='first'))])\n",
    "\n"
   ]
  },
  {
   "cell_type": "markdown",
   "id": "fdd76042",
   "metadata": {},
   "source": [
    "#### Using a Logistic Regression model to predict the values"
   ]
  },
  {
   "cell_type": "code",
   "execution_count": 11,
   "id": "2650735f",
   "metadata": {},
   "outputs": [],
   "source": [
    "from sklearn.linear_model import LogisticRegression\n",
    "\n",
    "processing_pipeline = ColumnTransformer(transformers=[('proc_numeric', num_pipeline, numerical_vars),\n",
    "                                                      ('create_dummies', car_pipeline, categorical_vars)])\n",
    "\n",
    "\n",
    "lg_model = Pipeline([('data_processing', processing_pipeline),\n",
    "                              ('logreg', LogisticRegression(penalty='none'))])"
   ]
  },
  {
   "cell_type": "code",
   "execution_count": 12,
   "id": "e9f7d415",
   "metadata": {
    "scrolled": true
   },
   "outputs": [
    {
     "data": {
      "text/plain": [
       "{'fit_time': array([1.13046503, 1.07808304, 0.97309518, 1.07360005, 1.02384424]),\n",
       " 'score_time': array([0.09453702, 0.09800315, 0.09569192, 0.11331201, 0.09479284]),\n",
       " 'test_accuracy': array([0.8445434 , 0.83637941, 0.83811452, 0.84089069, 0.83713129]),\n",
       " 'test_recall': array([0.85986902, 0.84912479, 0.84833427, 0.85578769, 0.84372177]),\n",
       " 'test_precision': array([0.84032222, 0.834332  , 0.83764496, 0.83716306, 0.83917341]),\n",
       " 'test_f1_macro': array([0.84433872, 0.83619699, 0.83796053, 0.84068781, 0.83701085]),\n",
       " 'test_roc_auc': array([0.92329704, 0.92001143, 0.91994534, 0.92311597, 0.91864613])}"
      ]
     },
     "execution_count": 12,
     "metadata": {},
     "output_type": "execute_result"
    }
   ],
   "source": [
    "from sklearn.model_selection import cross_validate\n",
    "# ignoring the warnings \n",
    "import warnings\n",
    "warnings.filterwarnings(\"ignore\")\n",
    "\n",
    "\n",
    "cv_results = cross_validate(lg_model, X_train, y_train, \n",
    "                            scoring=['accuracy', 'recall', 'precision', 'f1_macro', 'roc_auc'], cv=5)\n",
    "cv_results"
   ]
  },
  {
   "cell_type": "markdown",
   "id": "52aebc3a",
   "metadata": {},
   "source": [
    "> The dataset we are using is pretty balanced so will use accuracy to optimize our hyperparameters. This cross validation results shows without regularization, models performance is fair with max accuracy of 0.84."
   ]
  },
  {
   "cell_type": "markdown",
   "id": "f7527a14",
   "metadata": {},
   "source": [
    "#### Regularization helps to solve the overfitting when we have too many parameters making the dataset complex. So will use l2 regularization in our model.\n",
    "\n",
    "For the regularization, C parameter in Logistic Regression we will start with values that are spacing on a logarithmic scale.\n"
   ]
  },
  {
   "cell_type": "code",
   "execution_count": 13,
   "id": "fdf64d07",
   "metadata": {},
   "outputs": [
    {
     "data": {
      "text/plain": [
       "Pipeline(steps=[('pp',\n",
       "                 ColumnTransformer(transformers=[('proc_numeric',\n",
       "                                                  Pipeline(steps=[('scale',\n",
       "                                                                   StandardScaler())]),\n",
       "                                                  ['Angle_beta_(°)',\n",
       "                                                   'Angle_gamma_(°)',\n",
       "                                                   'Collection_Temperature',\n",
       "                                                   'Matthews_Coefficient',\n",
       "                                                   'Percent_Solvent_Content',\n",
       "                                                   'Total_Number_of_Polymer_Instances_(Chains)',\n",
       "                                                   'R_Free',\n",
       "                                                   'Reflections_For_Refinement',\n",
       "                                                   'Minimum_Diffraction_Wavelength',\n",
       "                                                   'Maximum_Diffraction_Wavelength',\n",
       "                                                   'Crystal_cell_volum']),\n",
       "                                                 ('create_dummies',\n",
       "                                                  Pipeline(steps=[('create_dummies_cats',\n",
       "                                                                   OneHotEncoder(drop='first',\n",
       "                                                                                 handle_unknown='ignore'))]),\n",
       "                                                  ['Detector',\n",
       "                                                   'Diffraction_Source_General_Class',\n",
       "                                                   'Structure_Determination_Method'])])),\n",
       "                ('lg', LogisticRegression(C=10))])"
      ]
     },
     "execution_count": 13,
     "metadata": {},
     "output_type": "execute_result"
    }
   ],
   "source": [
    "from sklearn.linear_model import LogisticRegression\n",
    "from sklearn.model_selection import GridSearchCV\n",
    "\n",
    "\n",
    "params = {'lg__C': [0.01, 0.1, 1, 10], 'lg__penalty':['l2', 'none']}\n",
    "\n",
    "lg_l2_model = Pipeline([('pp', processing_pipeline), \n",
    "                     ('lg', LogisticRegression())\n",
    "                    ])\n",
    "\n",
    "lg_l2_gscv = GridSearchCV(lg_l2_model, param_grid=params)\n",
    "lg_l2_gscv = lg_l2_gscv.fit(X_train, y_train)\n",
    "\n",
    "lg_l2_gscv.best_estimator_"
   ]
  },
  {
   "cell_type": "code",
   "execution_count": 14,
   "id": "9390fde8",
   "metadata": {},
   "outputs": [
    {
     "data": {
      "text/plain": [
       "0.8395275336390429"
      ]
     },
     "execution_count": 14,
     "metadata": {},
     "output_type": "execute_result"
    }
   ],
   "source": [
    "lg_l2_gscv.best_score_"
   ]
  },
  {
   "cell_type": "markdown",
   "id": "5f551030",
   "metadata": {},
   "source": [
    "> C=10 provides the best model with the training and validation data as it maximizes accuracy. Will search around the value 10 to find if there is value for which will get more accuracy value."
   ]
  },
  {
   "cell_type": "code",
   "execution_count": 16,
   "id": "07613e0f",
   "metadata": {},
   "outputs": [
    {
     "data": {
      "text/plain": [
       "Pipeline(steps=[('pp',\n",
       "                 ColumnTransformer(transformers=[('proc_numeric',\n",
       "                                                  Pipeline(steps=[('scale',\n",
       "                                                                   StandardScaler())]),\n",
       "                                                  ['Angle_beta_(°)',\n",
       "                                                   'Angle_gamma_(°)',\n",
       "                                                   'Collection_Temperature',\n",
       "                                                   'Matthews_Coefficient',\n",
       "                                                   'Percent_Solvent_Content',\n",
       "                                                   'Total_Number_of_Polymer_Instances_(Chains)',\n",
       "                                                   'R_Free',\n",
       "                                                   'Reflections_For_Refinement',\n",
       "                                                   'Minimum_Diffraction_Wavelength',\n",
       "                                                   'Maximum_Diffraction_Wavelength',\n",
       "                                                   'Crystal_cell_volum']),\n",
       "                                                 ('create_dummies',\n",
       "                                                  Pipeline(steps=[('create_dummies_cats',\n",
       "                                                                   OneHotEncoder(drop='first',\n",
       "                                                                                 handle_unknown='ignore'))]),\n",
       "                                                  ['Detector',\n",
       "                                                   'Diffraction_Source_General_Class',\n",
       "                                                   'Structure_Determination_Method'])])),\n",
       "                ('lg', LogisticRegression(C=15))])"
      ]
     },
     "execution_count": 16,
     "metadata": {},
     "output_type": "execute_result"
    }
   ],
   "source": [
    "from sklearn.linear_model import LogisticRegression\n",
    "from sklearn.model_selection import GridSearchCV\n",
    "import time\n",
    "\n",
    "start = time.process_time()\n",
    "\n",
    "params = {'lg__C': [5, 8, 10, 12,15], 'lg__penalty':['l2', 'none']}\n",
    "\n",
    "lg_l2_model = Pipeline([('pp', processing_pipeline), \n",
    "                     ('lg', LogisticRegression())\n",
    "                    ])\n",
    "\n",
    "lg_l2_gscv = GridSearchCV(lg_l2_model, param_grid=params)\n",
    "lg_l2_gscv = lg_l2_gscv.fit(X_train, y_train)\n",
    "\n",
    "lg_l2_time= time.process_time() - start\n",
    "\n",
    "lg_l2_gscv.best_estimator_"
   ]
  },
  {
   "cell_type": "code",
   "execution_count": 17,
   "id": "6a9a90db",
   "metadata": {},
   "outputs": [
    {
     "data": {
      "text/plain": [
       "0.8396547768258638"
      ]
     },
     "execution_count": 17,
     "metadata": {},
     "output_type": "execute_result"
    }
   ],
   "source": [
    "lg_l2_gscv.best_score_"
   ]
  },
  {
   "cell_type": "code",
   "execution_count": 18,
   "id": "aca47f26",
   "metadata": {},
   "outputs": [
    {
     "name": "stdout",
     "output_type": "stream",
     "text": [
      "              precision    recall  f1-score   support\n",
      "\n",
      "           0       0.84      0.83      0.83     10454\n",
      "           1       0.84      0.85      0.85     11159\n",
      "\n",
      "    accuracy                           0.84     21613\n",
      "   macro avg       0.84      0.84      0.84     21613\n",
      "weighted avg       0.84      0.84      0.84     21613\n",
      "\n"
     ]
    }
   ],
   "source": [
    "from sklearn.metrics import classification_report\n",
    "\n",
    "lg_l2_pred_evt = lg_l2_gscv.predict(X_test)\n",
    "\n",
    "print(classification_report(y_test, lg_l2_pred_evt))"
   ]
  },
  {
   "cell_type": "markdown",
   "id": "813c7d74",
   "metadata": {},
   "source": [
    "> C=10 is still showing the best performance after a secondary targeted hyperparameter search.There is slight increase in accuracy score so will go ahead with this parameter value. "
   ]
  },
  {
   "cell_type": "code",
   "execution_count": 19,
   "id": "5078d205",
   "metadata": {},
   "outputs": [
    {
     "name": "stdout",
     "output_type": "stream",
     "text": [
      "              precision    recall  f1-score   support\n",
      "\n",
      "           0       0.84      0.83      0.83     42174\n",
      "           1       0.84      0.85      0.85     44277\n",
      "\n",
      "    accuracy                           0.84     86451\n",
      "   macro avg       0.84      0.84      0.84     86451\n",
      "weighted avg       0.84      0.84      0.84     86451\n",
      "\n"
     ]
    }
   ],
   "source": [
    "from sklearn.metrics import classification_report\n",
    "\n",
    "lg_l2_pred_evt = lg_l2_gscv.predict(X_train)\n",
    "\n",
    "print(classification_report(y_train, lg_l2_pred_evt))"
   ]
  },
  {
   "cell_type": "markdown",
   "id": "d50e7805",
   "metadata": {},
   "source": [
    "> Logistic regression model's performance is same for test and training data. "
   ]
  },
  {
   "cell_type": "markdown",
   "id": "0f041561",
   "metadata": {},
   "source": [
    "#### Using PCA on numerical columns to reduce the dimensionality of the dataset. "
   ]
  },
  {
   "cell_type": "code",
   "execution_count": 20,
   "id": "05e4473e",
   "metadata": {},
   "outputs": [
    {
     "name": "stdout",
     "output_type": "stream",
     "text": [
      "Accuracy for 5 n_components : 0.8138157590339148\n",
      "Accuracy for 6 n_components : 0.8167769398047472\n",
      "Accuracy for 7 n_components : 0.8163142553093046\n",
      "Accuracy for 8 n_components : 0.8202008050710221\n",
      "Accuracy for 9 n_components : 0.8286679313376208\n",
      "Accuracy for 10 n_components : 0.8397723592282422\n"
     ]
    }
   ],
   "source": [
    "from sklearn.metrics import accuracy_score\n",
    "from sklearn.model_selection import GridSearchCV\n",
    "from sklearn.decomposition import PCA\n",
    "\n",
    "n_comp_list=[5,6,7,8,9,10]\n",
    "\n",
    "for i in n_comp_list:\n",
    "    num_pipeline = Pipeline([('scale', StandardScaler()), ('pca', PCA(n_components=i)) ])\n",
    "    car_pipeline = Pipeline([('create_dummies_cats', OneHotEncoder(handle_unknown='ignore', drop='first'))])\n",
    "\n",
    "\n",
    "    processing_pipeline = ColumnTransformer(transformers=[('proc_numeric', num_pipeline, numerical_vars),\n",
    "                                                      ('create_dummies', car_pipeline, categorical_vars)])\n",
    "\n",
    "\n",
    "    modeling_pipeline = Pipeline([('data_processing', processing_pipeline),\n",
    "                              ('logreg', LogisticRegression(penalty='none'))])\n",
    "\n",
    "    pca_model=modeling_pipeline.fit(X_train, y_train)\n",
    "    pca_y_predicted = pca_model.predict(X_test)\n",
    "\n",
    "\n",
    "    print('Accuracy for %d n_components :'%(i),accuracy_score(y_test, pca_y_predicted))"
   ]
  },
  {
   "cell_type": "markdown",
   "id": "0129cd1a",
   "metadata": {},
   "source": [
    "> I have tried using different n_component values for the numeric column pipeline. But it is not showing any improvement. All the n-component values have less accuracy than the previous logistic regression with regularization model."
   ]
  },
  {
   "cell_type": "markdown",
   "id": "bda82ab1",
   "metadata": {},
   "source": [
    "#### Using Decision Tree Classifier to predict the values."
   ]
  },
  {
   "cell_type": "code",
   "execution_count": 21,
   "id": "4ec43d63",
   "metadata": {},
   "outputs": [
    {
     "data": {
      "text/plain": [
       "Pipeline(steps=[('data_processing',\n",
       "                 ColumnTransformer(transformers=[('proc_numeric',\n",
       "                                                  Pipeline(steps=[('scale',\n",
       "                                                                   StandardScaler())]),\n",
       "                                                  ['Angle_beta_(°)',\n",
       "                                                   'Angle_gamma_(°)',\n",
       "                                                   'Collection_Temperature',\n",
       "                                                   'Matthews_Coefficient',\n",
       "                                                   'Percent_Solvent_Content',\n",
       "                                                   'Total_Number_of_Polymer_Instances_(Chains)',\n",
       "                                                   'R_Free',\n",
       "                                                   'Reflections_For_Refinement',\n",
       "                                                   'Minimum_Diffraction_Wavelength',\n",
       "                                                   'Maximum_Diffraction_Wavelength',\n",
       "                                                   'Crystal_cell_volum']),\n",
       "                                                 ('create_dummies',\n",
       "                                                  Pipeline(steps=[('create_dummies_cats',\n",
       "                                                                   OneHotEncoder(drop='first',\n",
       "                                                                                 handle_unknown='ignore'))]),\n",
       "                                                  ['Detector',\n",
       "                                                   'Diffraction_Source_General_Class',\n",
       "                                                   'Structure_Determination_Method'])])),\n",
       "                ('dt',\n",
       "                 DecisionTreeClassifier(max_depth=10, min_samples_split=0.01))])"
      ]
     },
     "execution_count": 21,
     "metadata": {},
     "output_type": "execute_result"
    }
   ],
   "source": [
    "from sklearn.tree import DecisionTreeClassifier\n",
    "\n",
    "num_pipeline = Pipeline([('scale', StandardScaler())])\n",
    "car_pipeline = Pipeline([('create_dummies_cats', OneHotEncoder(handle_unknown='ignore', drop='first'))])\n",
    "\n",
    "\n",
    "processing_pipeline = ColumnTransformer(transformers=[('proc_numeric', num_pipeline, numerical_vars),\n",
    "                                                      ('create_dummies', car_pipeline, categorical_vars)])\n",
    "\n",
    "\n",
    "dt_modeling_pipeline = Pipeline([('data_processing', processing_pipeline),\n",
    "                                ('dt', DecisionTreeClassifier())])\n",
    "\n",
    "param_grid = [\n",
    "  {'dt__max_depth': [2, 5, 10, 15, 20],\n",
    "   'dt__min_samples_split':[0.01, 0.05, 0.10]}]\n",
    "\n",
    "\n",
    "gcv_results = GridSearchCV(estimator=dt_modeling_pipeline,param_grid=param_grid)\n",
    "\n",
    "gcv_results = gcv_results.fit(X_train, y_train)\n",
    "\n",
    "gcv_results.best_estimator_"
   ]
  },
  {
   "cell_type": "code",
   "execution_count": 22,
   "id": "0f2740f4",
   "metadata": {},
   "outputs": [
    {
     "data": {
      "text/plain": [
       "0.8368092903234092"
      ]
     },
     "execution_count": 22,
     "metadata": {},
     "output_type": "execute_result"
    }
   ],
   "source": [
    "gcv_results.best_score_"
   ]
  },
  {
   "cell_type": "code",
   "execution_count": 23,
   "id": "2a0450ea",
   "metadata": {},
   "outputs": [
    {
     "name": "stdout",
     "output_type": "stream",
     "text": [
      "              precision    recall  f1-score   support\n",
      "\n",
      "           0       0.85      0.83      0.84     10454\n",
      "           1       0.84      0.86      0.85     11159\n",
      "\n",
      "    accuracy                           0.84     21613\n",
      "   macro avg       0.84      0.84      0.84     21613\n",
      "weighted avg       0.84      0.84      0.84     21613\n",
      "\n"
     ]
    }
   ],
   "source": [
    "from sklearn.metrics import classification_report\n",
    "\n",
    "dt_pred_evt = gcv_results.predict(X_test)\n",
    "\n",
    "print(classification_report(y_test, dt_pred_evt))"
   ]
  },
  {
   "cell_type": "markdown",
   "id": "dec2719b",
   "metadata": {},
   "source": [
    "> Decision tree classifier is giving best performance for max_depth of 10 or value near to 10 could be preferred. Also it is using 1% minimum sample split. Currently model is giving 0.84 accuracy with 85% precision and 86% recall. To further improve the results of the classifier we will try to search for better values near this first choice of the hyperparameters by doing secondary search. "
   ]
  },
  {
   "cell_type": "code",
   "execution_count": 24,
   "id": "b0c13264",
   "metadata": {},
   "outputs": [
    {
     "data": {
      "text/plain": [
       "Pipeline(steps=[('data_processing',\n",
       "                 ColumnTransformer(transformers=[('proc_numeric',\n",
       "                                                  Pipeline(steps=[('scale',\n",
       "                                                                   StandardScaler())]),\n",
       "                                                  ['Angle_beta_(°)',\n",
       "                                                   'Angle_gamma_(°)',\n",
       "                                                   'Collection_Temperature',\n",
       "                                                   'Matthews_Coefficient',\n",
       "                                                   'Percent_Solvent_Content',\n",
       "                                                   'Total_Number_of_Polymer_Instances_(Chains)',\n",
       "                                                   'R_Free',\n",
       "                                                   'Reflections_For_Refinement',\n",
       "                                                   'Minimum_Diffraction_Wavelength',\n",
       "                                                   'Maximum_Diffraction_Wavelength',\n",
       "                                                   'Crystal_cell_volum']),\n",
       "                                                 ('create_dummies',\n",
       "                                                  Pipeline(steps=[('create_dummies_cats',\n",
       "                                                                   OneHotEncoder(drop='first',\n",
       "                                                                                 handle_unknown='ignore'))]),\n",
       "                                                  ['Detector',\n",
       "                                                   'Diffraction_Source_General_Class',\n",
       "                                                   'Structure_Determination_Method'])])),\n",
       "                ('dt',\n",
       "                 DecisionTreeClassifier(max_depth=10,\n",
       "                                        min_samples_split=0.005))])"
      ]
     },
     "execution_count": 24,
     "metadata": {},
     "output_type": "execute_result"
    }
   ],
   "source": [
    "from sklearn.tree import DecisionTreeClassifier\n",
    "from sklearn.model_selection import GridSearchCV\n",
    "start = time.process_time()\n",
    "params = {'dt__max_depth': [8,9,10, 11, 12, 13],\n",
    "          'dt__min_samples_split':[0.005,0.007,0.01, 0.02, 0.03]\n",
    "         }\n",
    "\n",
    "dt_model = Pipeline([('data_processing', processing_pipeline), ('dt', DecisionTreeClassifier())])\n",
    "\n",
    "dt = GridSearchCV(dt_model, param_grid=params)\n",
    "dt = dt.fit(X_train, y_train)\n",
    "\n",
    "df_time= time.process_time() - start\n",
    "\n",
    "dt.best_estimator_"
   ]
  },
  {
   "cell_type": "code",
   "execution_count": 25,
   "id": "66893a7b",
   "metadata": {},
   "outputs": [
    {
     "name": "stdout",
     "output_type": "stream",
     "text": [
      "              precision    recall  f1-score   support\n",
      "\n",
      "           0       0.85      0.85      0.85     10454\n",
      "           1       0.86      0.86      0.86     11159\n",
      "\n",
      "    accuracy                           0.85     21613\n",
      "   macro avg       0.85      0.85      0.85     21613\n",
      "weighted avg       0.85      0.85      0.85     21613\n",
      "\n"
     ]
    }
   ],
   "source": [
    "from sklearn.metrics import classification_report\n",
    "\n",
    "dt_pred_evt = dt.predict(X_test)\n",
    "\n",
    "print(classification_report(y_test, dt_pred_evt))"
   ]
  },
  {
   "cell_type": "markdown",
   "id": "eb07a264",
   "metadata": {},
   "source": [
    "> In secondary search also max_depth =10 but the min_sample_split = 0.005 which is half the value from the first parameter search which was 1%. This change has increased the accuracy by 1% and precision value by 2%. So far the Decision tree classifier model with max_depth =10 and the min_sample_split = 0.005 has given the best result."
   ]
  },
  {
   "cell_type": "code",
   "execution_count": 26,
   "id": "ee3ca438",
   "metadata": {},
   "outputs": [
    {
     "name": "stdout",
     "output_type": "stream",
     "text": [
      "              precision    recall  f1-score   support\n",
      "\n",
      "           0       0.85      0.86      0.86     42174\n",
      "           1       0.87      0.86      0.86     44277\n",
      "\n",
      "    accuracy                           0.86     86451\n",
      "   macro avg       0.86      0.86      0.86     86451\n",
      "weighted avg       0.86      0.86      0.86     86451\n",
      "\n"
     ]
    }
   ],
   "source": [
    "from sklearn.metrics import classification_report\n",
    "\n",
    "dt_pred_evt = dt.predict(X_train)\n",
    "\n",
    "print(classification_report(y_train, dt_pred_evt))"
   ]
  },
  {
   "cell_type": "markdown",
   "id": "d22de6a1",
   "metadata": {},
   "source": [
    "> If we compare performance of the model on the test and training data we don't see much overfitting. Model's performance on training data is 1% higher than the test data which is good."
   ]
  },
  {
   "cell_type": "markdown",
   "id": "c18f0b69",
   "metadata": {},
   "source": [
    "### Result\n",
    "\n"
   ]
  },
  {
   "cell_type": "code",
   "execution_count": 31,
   "id": "9e375199",
   "metadata": {},
   "outputs": [
    {
     "name": "stdout",
     "output_type": "stream",
     "text": [
      "Logistic Regression, Training: 0.8400365524979468\n",
      "Logistic Regression, Test: 0.8404663859714061\n",
      "Decision Tree, Training: 0.8605221454928226\n",
      "Decision Tree, Test: 0.8546707999814926\n"
     ]
    }
   ],
   "source": [
    "print(f'Logistic Regression, Training: {lg_l2_gscv.score(X_train, y_train)}')\n",
    "print(f'Logistic Regression, Test: {lg_l2_gscv.score(X_test, y_test)}')\n",
    "\n",
    "print(f'Decision Tree, Training: {dt.score(X_train, y_train)}')\n",
    "print(f'Decision Tree, Test: {dt.score(X_test, y_test)}')"
   ]
  },
  {
   "cell_type": "markdown",
   "id": "cf57c050",
   "metadata": {},
   "source": [
    "> Above score shows the models performance on test and training data. There is not much of a difference for both the models. Which proves that the model is not overfitting to the particular data."
   ]
  },
  {
   "cell_type": "markdown",
   "id": "cc874c38",
   "metadata": {},
   "source": [
    "#### Comparing the ROC curve for best performing Logistic Regression and Decision Tree model."
   ]
  },
  {
   "cell_type": "code",
   "execution_count": 33,
   "id": "ac9863ff",
   "metadata": {},
   "outputs": [
    {
     "data": {
      "image/png": "[encoded data removed]",
      "text/plain": [
       "<Figure size 432x288 with 1 Axes>"
      ]
     },
     "metadata": {
      "needs_background": "light"
     },
     "output_type": "display_data"
    }
   ],
   "source": [
    "from sklearn.metrics import roc_curve\n",
    "\n",
    "lg_pred =lg_l2_gscv.predict_proba(X_test)\n",
    "dt_pred = dt.predict_proba(X_test)\n",
    "\n",
    "lg_fpr, lg_tpr, lg_thr = roc_curve(y_test, lg_pred[:,1])\n",
    "dt_fpr, dt_tpr, dt_thr = roc_curve(y_test, dt_pred[:,1])\n",
    "\n",
    "\n",
    "plt.plot(lg_fpr, lg_tpr)\n",
    "plt.plot(dt_fpr, dt_tpr)\n",
    "plt.plot(lg_fpr, lg_fpr, linestyle='dashed')\n",
    "plt.title('ROC Curve', loc='left')\n",
    "plt.xlabel('False Positive Rate')\n",
    "plt.ylabel('True Positive Rate')\n",
    "plt.legend(['Logistic Regression', 'Decision Tree'], loc='lower right')\n",
    "plt.show()"
   ]
  },
  {
   "cell_type": "markdown",
   "id": "d9d3dae1",
   "metadata": {},
   "source": [
    "> ROC curve for the Decision tree is slightly better than the Logistic regression model. Both the models are showing similar trade-offs between TPR and FPR. Overall both the curves are far from the diagonal which proves both the model does a fair job at predicting the values. "
   ]
  },
  {
   "cell_type": "code",
   "execution_count": 34,
   "id": "8c91495f",
   "metadata": {},
   "outputs": [
    {
     "name": "stdout",
     "output_type": "stream",
     "text": [
      "Time taken by Logistic Regression Model: 40.144172999999995\n",
      "Time taken by Decision Tree Model: 126.78127800000001\n"
     ]
    }
   ],
   "source": [
    "print(\"Time taken by Logistic Regression Model:\",lg_l2_time)\n",
    "\n",
    "print(\"Time taken by Decision Tree Model:\",df_time)"
   ]
  },
  {
   "cell_type": "markdown",
   "id": "c671395b",
   "metadata": {},
   "source": [
    "> Decision Tree model is taking more time than the Logistic regression model."
   ]
  },
  {
   "cell_type": "markdown",
   "id": "04bd3e1e",
   "metadata": {},
   "source": [
    "Considering all the factors we can say that DecisionTreeClassifier is the best performing model so far. If we want to try on a very large amount of data DT model might take more time and it will be computationally expensive as compared to LR for 1% of increase in accuracy. "
   ]
  },
  {
   "cell_type": "markdown",
   "id": "e36a98fa",
   "metadata": {},
   "source": [
    "### Areas which can be further explored. \n",
    "\n",
    "The PDB dataset which has been used in this project has more than 300 features for each protein structure for different categories. As we only considered X-ray diffraction and protein structure properties data we initially extracted 42 features from it and finally used 14 features for the prediction. To further analyze we can try training our model on other features as well like Z-number, Crystallization Method,Crystal Growth Procedure etc. \n",
    "\n",
    "In this project we tried to predict the Resolution value which is between (1 to 3) by converting into boolean values. But without converting it into binary class we could try using multiclass classification models to predict the resolution. It might give better prediction probability."
   ]
  },
  {
   "cell_type": "markdown",
   "id": "2c98a0c0",
   "metadata": {},
   "source": [
    "### References \n",
    "\n",
    "- [RCSB Protein Data Bank](https://www.rcsb.org/)\n",
    "- [PDB Dataset](https://bit.ly/3K0LUJq)\n",
    "- [Resolution](https://pdb101.rcsb.org/learn/guide-to-understanding-pdb-data/resolution)\n",
    "- [Assignment - Comparing Models](https://github.com/appliedecon/data602-lectures/blob/main/sample-solutions/2022-Spring/comparing-models-answered.ipynb)"
   ]
  }
 ],
 "metadata": {
  "kernelspec": {
   "display_name": "Python 3 (ipykernel)",
   "language": "python",
   "name": "python3"
  },
  "language_info": {
   "codemirror_mode": {
    "name": "ipython",
    "version": 3
   },
   "file_extension": ".py",
   "mimetype": "text/x-python",
   "name": "python",
   "nbconvert_exporter": "python",
   "pygments_lexer": "ipython3",
   "version": "3.8.10"
  }
 },
 "nbformat": 4,
 "nbformat_minor": 5
}
